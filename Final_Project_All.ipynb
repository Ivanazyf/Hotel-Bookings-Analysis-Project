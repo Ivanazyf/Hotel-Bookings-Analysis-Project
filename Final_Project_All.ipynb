{
 "cells": [
  {
   "cell_type": "code",
   "execution_count": 18,
   "metadata": {},
   "outputs": [],
   "source": [
    "# This code was written with the assistance of ChatGPT, a language model trained by OpenAI based on the GPT-3.5 architecture.\n",
    "\n",
    "import pandas as pd\n",
    "import numpy as np\n",
    "import matplotlib.pyplot as plt"
   ]
  },
  {
   "attachments": {},
   "cell_type": "markdown",
   "metadata": {},
   "source": [
    "### Data Preparation"
   ]
  },
  {
   "cell_type": "code",
   "execution_count": 19,
   "metadata": {},
   "outputs": [],
   "source": [
    "# Load the data into a DataFrame\n",
    "df = pd.read_csv(\"hotel_bookings.csv\")\n",
    "\n",
    "# Drop the useless columns\n",
    "df.drop(['arrival_date_year', 'arrival_date_week_number', 'arrival_date_day_of_month', 'country', 'distribution_channel', 'previous_bookings_not_canceled', 'agent', 'company', 'adr', 'reservation_status', 'reservation_status_date'], axis=1, inplace=True)\n"
   ]
  },
  {
   "cell_type": "code",
   "execution_count": 20,
   "metadata": {},
   "outputs": [
    {
     "name": "stdout",
     "output_type": "stream",
     "text": [
      "Missing values per column:\n",
      " hotel                          False\n",
      "is_canceled                    False\n",
      "lead_time                      False\n",
      "arrival_date_month             False\n",
      "stays_in_weekend_nights        False\n",
      "stays_in_week_nights           False\n",
      "adults                         False\n",
      "children                        True\n",
      "babies                         False\n",
      "meal                           False\n",
      "market_segment                 False\n",
      "is_repeated_guest              False\n",
      "previous_cancellations         False\n",
      "reserved_room_type             False\n",
      "assigned_room_type             False\n",
      "booking_changes                False\n",
      "deposit_type                   False\n",
      "days_in_waiting_list           False\n",
      "customer_type                  False\n",
      "required_car_parking_spaces    False\n",
      "total_of_special_requests      False\n",
      "dtype: bool\n",
      "\n",
      "Missing values in the entire dataset: True\n"
     ]
    }
   ],
   "source": [
    "# Check for missing values in each column\n",
    "missing_values_per_column = df.isna().any()\n",
    "print(\"Missing values per column:\\n\", missing_values_per_column)\n",
    "\n",
    "# Check for missing values in the entire dataset\n",
    "missing_values = df.isna().any().any()\n",
    "print(\"\\nMissing values in the entire dataset:\", missing_values)\n",
    "\n",
    "# Fill the missing value in 'children' with 0\n",
    "df['children'].fillna(0, inplace=True)\n"
   ]
  },
  {
   "attachments": {},
   "cell_type": "markdown",
   "metadata": {},
   "source": [
    "### Summary Statistics"
   ]
  },
  {
   "cell_type": "code",
   "execution_count": 21,
   "metadata": {},
   "outputs": [
    {
     "name": "stdout",
     "output_type": "stream",
     "text": [
      "is_canceled                           0           1\n",
      "lead_time               mean  79.984687  144.848815\n",
      "                        std   91.109888  118.624829\n",
      "stays_in_weekend_nights mean   0.928971    0.925267\n",
      "                        std    0.993371    1.007468\n",
      "stays_in_week_nights    mean   2.464053    2.561912\n",
      "                        std    1.924803    1.878296\n",
      "adults                  mean   1.829737    1.901728\n",
      "                        std    0.510451    0.678038\n",
      "children                mean   0.102347    0.106503\n",
      "                        std    0.390836    0.411335\n",
      "babies                  mean   0.010377    0.003821\n",
      "                        std    0.113007    0.062429\n",
      "previous_cancellations  mean   0.015792    0.208348\n",
      "                        std    0.272421    1.332346\n",
      "booking_changes         mean   0.293364    0.098340\n",
      "                        std    0.736266    0.451008\n",
      "days_in_waiting_list    mean   1.589868    3.564083\n",
      "                        std   14.784875   21.488768\n"
     ]
    }
   ],
   "source": [
    "# Define a list of variables to include in the summary statistics table\n",
    "list_of_variables = ['is_canceled','lead_time','stays_in_weekend_nights','stays_in_week_nights','adults','children','babies','previous_cancellations','booking_changes','days_in_waiting_list']\n",
    "\n",
    "# Group the subset of the dataframe containing the list of variables by the 'is_canceled' column and compute the mean and standard deviation for each group\n",
    "# The T method is used to transpose the resulting summary statistics table for better readability\n",
    "df_summary = df[list_of_variables].groupby(['is_canceled']).agg(['mean', 'std']).T\n",
    "\n",
    "# Display the summary statistics table\n",
    "print(df_summary)\n",
    "\n",
    "# Save the summary statistics table as an Excel file named 'summary_statistics.xlsx'\n",
    "df_summary.to_excel('summary_statistics.xlsx')\n"
   ]
  },
  {
   "cell_type": "code",
   "execution_count": 22,
   "metadata": {},
   "outputs": [],
   "source": [
    "# Change the text categories variables into dummies\n",
    "\n",
    "def change_var_to_dummy(df, C): \n",
    "\n",
    "    # Convert the 'C' column to dummy variables\n",
    "    dummy_vars = pd.get_dummies(df[C], prefix=C)\n",
    "\n",
    "    # Drop the original 'C' column from the DataFrame\n",
    "    df = df.drop(C, axis=1)\n",
    "\n",
    "    # Concatenate the dummy variables to the DataFrame\n",
    "    df = pd.concat([df, dummy_vars], axis=1)\n",
    "    return df\n",
    "\n",
    "# 'arrival_date_month'? \n",
    "dummy_list = ['hotel', 'meal', 'market_segment', 'deposit_type', 'customer_type']\n",
    "\n",
    "for i in dummy_list:\n",
    "    df = change_var_to_dummy(df, i)\n",
    "\n",
    "\n",
    "# Create a new column based on the condition\n",
    "df['room_type_align'] = (df['reserved_room_type'] == df['assigned_room_type']).astype(int)\n",
    "df.drop(['reserved_room_type','assigned_room_type'] , axis=1, inplace=True)\n",
    "\n",
    "# print(df)\n"
   ]
  },
  {
   "cell_type": "code",
   "execution_count": 23,
   "metadata": {},
   "outputs": [],
   "source": [
    "# Import the datetime module, which provides functions for working with dates and times\n",
    "import datetime\n",
    "\n",
    "# Define a function to convert full month names to numbers\n",
    "def month_name_to_number(month_name):\n",
    "    # Use the strptime() function to parse the month name string and convert it to a datetime object\n",
    "    datetime_object = datetime.datetime.strptime(month_name, \"%B\")\n",
    "    # Use the month attribute of the datetime object to get the corresponding month number\n",
    "    month_number = datetime_object.month\n",
    "    # Return the month number\n",
    "    return month_number\n",
    "\n",
    "# Apply the month_name_to_number() function to the 'arrival_date_month' column of the dataframe\n",
    "# This creates a new 'month' column with the month numbers\n",
    "df['month'] = df['arrival_date_month'].apply(month_name_to_number)\n",
    "\n",
    "# Drop the original 'arrival_date_month' column from the dataframe\n",
    "\n",
    "df.drop('arrival_date_month', axis=1, inplace=True)\n",
    "\n",
    "# Save the cleaned dataframe to a new CSV file called 'cleaned_data.csv'\n",
    "\n",
    "df.to_csv('cleaned_data.csv', index=False)\n",
    "\n"
   ]
  },
  {
   "cell_type": "code",
   "execution_count": 45,
   "metadata": {},
   "outputs": [],
   "source": [
    "# Import the train_test_split function from the sklearn.model_selection module\n",
    "from sklearn.model_selection import train_test_split\n",
    "\n",
    "# Select the feature columns (all columns except the first one) as the input variable x\n",
    "x = df.iloc[:, 1:]\n",
    "\n",
    "# Select the target column (the first column) as the output variable y\n",
    "y = df.iloc[:, 0]\n",
    "\n",
    "# Split the dataset into training and test sets, with a test size of 20% and a random state of 42 for reproducibility\n",
    "X_train, X_test, y_train, y_test = train_test_split(x, y, test_size=0.2, random_state=42)\n"
   ]
  },
  {
   "attachments": {},
   "cell_type": "markdown",
   "metadata": {},
   "source": [
    "### Logistic Regression"
   ]
  },
  {
   "cell_type": "code",
   "execution_count": 25,
   "metadata": {},
   "outputs": [
    {
     "name": "stderr",
     "output_type": "stream",
     "text": [
      "/Users/cangshu/opt/anaconda3/lib/python3.9/site-packages/numpy/core/fromnumeric.py:3430: FutureWarning: In a future version, DataFrame.mean(axis=None) will return a scalar mean over the entire DataFrame. To retain the old behavior, use 'frame.mean(axis=0)' or just 'frame.mean()'\n",
      "  return mean(axis=axis, dtype=dtype, out=out, **kwargs)\n",
      "/Users/cangshu/opt/anaconda3/lib/python3.9/site-packages/numpy/core/fromnumeric.py:3430: FutureWarning: In a future version, DataFrame.mean(axis=None) will return a scalar mean over the entire DataFrame. To retain the old behavior, use 'frame.mean(axis=0)' or just 'frame.mean()'\n",
      "  return mean(axis=axis, dtype=dtype, out=out, **kwargs)\n"
     ]
    }
   ],
   "source": [
    "# Model_1\n",
    "# Standardization of training and test sets\n",
    "s_X_train=(X_train-np.mean(X_train))/np.std(X_train)\n",
    "s_X_test=(X_test-np.mean(X_train))/np.std(X_train)\n"
   ]
  },
  {
   "cell_type": "code",
   "execution_count": 26,
   "metadata": {},
   "outputs": [],
   "source": [
    "# Implement the logistic regression model\n",
    "from sklearn.linear_model import LogisticRegression\n",
    "logreg=LogisticRegression()\n",
    "logreg.fit(s_X_train,y_train)\n",
    "\n",
    "# Make predictions on the test set\n",
    "y_pred=logreg.predict(s_X_test)\n"
   ]
  },
  {
   "cell_type": "code",
   "execution_count": 27,
   "metadata": {},
   "outputs": [
    {
     "name": "stdout",
     "output_type": "stream",
     "text": [
      "The test error is  0.1896306223301784 .\n"
     ]
    }
   ],
   "source": [
    "# Calculate the test error\n",
    "num_misclassified=(y_test != y_pred).sum()\n",
    "test_error=num_misclassified/len(y_test)\n",
    "print('The test error is ',test_error,'.')"
   ]
  },
  {
   "cell_type": "markdown",
   "metadata": {},
   "source": [
    "### LDA, QDA"
   ]
  },
  {
   "cell_type": "code",
   "execution_count": 28,
   "metadata": {},
   "outputs": [],
   "source": [
    "# Standardize data\n",
    "X_train = np.array(X_train)\n",
    "X_test = np.array(X_test)\n",
    "y_train = np.array(y_train)\n",
    "y_test = np.array(y_test)\n",
    "\n",
    "mean_tr = np.mean(X_train)\n",
    "std_tr = np.std(X_train)\n",
    "X_train = (X_train - mean_tr)/std_tr\n",
    "X_test = (X_test - mean_tr)/std_tr\n",
    "\n"
   ]
  },
  {
   "cell_type": "code",
   "execution_count": 29,
   "metadata": {},
   "outputs": [
    {
     "name": "stderr",
     "output_type": "stream",
     "text": [
      "/Users/cangshu/opt/anaconda3/lib/python3.9/site-packages/sklearn/discriminant_analysis.py:878: UserWarning: Variables are collinear\n",
      "  warnings.warn(\"Variables are collinear\")\n"
     ]
    },
    {
     "name": "stdout",
     "output_type": "stream",
     "text": [
      "Best Threshold 0.44: Max Accuracy = 0.7983918251109808\n",
      "Best Threshold 0.98: Max Accuracy = 0.7379177485551554\n"
     ]
    }
   ],
   "source": [
    "# LDA, QDA Models\n",
    "from sklearn.discriminant_analysis import QuadraticDiscriminantAnalysis as QDA\n",
    "from sklearn.discriminant_analysis import LinearDiscriminantAnalysis as LDA\n",
    "from sklearn.metrics import accuracy_score, confusion_matrix\n",
    "lda_model = LDA()\n",
    "lda_model.fit(X_train, y_train)\n",
    "lda_pred = lda_model.predict(X_test)\n",
    "\n",
    "qda_model = QDA()\n",
    "qda_model.fit(X_train, y_train)\n",
    "qda_pred = qda_model.predict(X_test)\n",
    "lda_pred\n",
    "\n",
    "# LDA parameter tuning\n",
    "# predict posterior probabilities on test data\n",
    "probabilities = lda_model.predict_proba(X_test)\n",
    "\n",
    "# Adjust threshold and evaluate performance\n",
    "# Create a sequence of float numbers from 0.0 to 1.0 with a step of 0.1\n",
    "seq = [float(i)/100 for i in range(1, 99)]\n",
    "max_accuracy = 0\n",
    "for threshold in seq:\n",
    "    y_pred = (probabilities[:, 1] >= threshold).astype(int)\n",
    "    accuracy = accuracy_score(y_test, y_pred)\n",
    "    if accuracy > max_accuracy:\n",
    "        max_accuracy = accuracy\n",
    "        best_threshold = threshold\n",
    "print(f'Best Threshold {best_threshold}: Max Accuracy = {max_accuracy}')\n",
    "\n",
    "# QDA parameter tuning\n",
    "# predict posterior probabilities on test data\n",
    "probabilities = qda_model.predict_proba(X_test)\n",
    "# Adjust threshold and evaluate performance (a threshold is a value that is used to classify the predicted outcomes into different categories)\n",
    "max_accuracy = 0\n",
    "for threshold in seq:\n",
    "    y_pred = (probabilities[:, 1] >= threshold).astype(int)\n",
    "    accuracy = accuracy_score(y_test, y_pred)\n",
    "    if accuracy > max_accuracy:\n",
    "        max_accuracy = accuracy\n",
    "        best_threshold = threshold\n",
    "print(f'Best Threshold {best_threshold}: Max Accuracy = {max_accuracy}')\n",
    "\n"
   ]
  },
  {
   "attachments": {},
   "cell_type": "markdown",
   "metadata": {},
   "source": [
    "### KNN model"
   ]
  },
  {
   "cell_type": "code",
   "execution_count": 42,
   "metadata": {},
   "outputs": [],
   "source": [
    "from sklearn.model_selection import train_test_split\n",
    "import numpy as np\n",
    "import pandas as pd\n",
    "from sklearn.model_selection import train_test_split\n",
    "from sklearn.neighbors import KNeighborsClassifier\n",
    "from sklearn.metrics import accuracy_score\n",
    "\n",
    "x = df.iloc[:, 1:]\n",
    "y = df.iloc[:, 0]\n",
    "\n",
    "# Split the dataset into training and test sets\n",
    "X_train, X_test, y_train, y_test = train_test_split(x, y, test_size=0.2, random_state=42)\n",
    "\n",
    "# Standardize the training set\n",
    "\n",
    "def standardize(df):\n",
    "    # identify binary variables\n",
    "    binary_vars = set()\n",
    "    for col in df.columns:\n",
    "        unique_vals = df[col].unique()\n",
    "        if len(unique_vals) <= 2:\n",
    "            binary_vars.add(col)\n",
    "    \n",
    "    # calculate the mean and standard deviation of each column, excluding binary variables\n",
    "    means = df.mean(axis=0)\n",
    "    stds = df.std(axis=0)\n",
    "    for var in binary_vars:\n",
    "        means[var] = 0\n",
    "        stds[var] = 1\n",
    "\n",
    "    # standardize the input data frame, excluding binary variables\n",
    "    numeric_cols = df.columns.difference(binary_vars)\n",
    "    df[numeric_cols] = (df[numeric_cols] - means[numeric_cols]) / stds[numeric_cols]\n",
    "    \n",
    "    return df\n",
    "\n",
    "# # apply standardization to X_train\n",
    "X_train = standardize(X_train)\n",
    "X_test = standardize(X_test)\n",
    "\n",
    "\n"
   ]
  },
  {
   "cell_type": "code",
   "execution_count": 43,
   "metadata": {},
   "outputs": [],
   "source": [
    "import matplotlib.pyplot as plt\n",
    "\n",
    "# Define a list of k values to try\n",
    "neighbor_list = [1, 3, 5, 7, 9, 11, 13, 15, 17, 19]\n",
    "\n",
    "# Create empty lists to store k values and corresponding accuracies\n",
    "k_values = []\n",
    "accuracies = []\n",
    "\n",
    "# Loop over different k values\n",
    "for k in neighbor_list:\n",
    "    # Create a KNN model with k neighbors\n",
    "    knn = KNeighborsClassifier(n_neighbors=k)\n",
    "\n",
    "    # Train the KNN model on the training set\n",
    "    knn.fit(X_train, y_train)\n",
    "\n",
    "    # Make predictions on the test set\n",
    "    y_pred = knn.predict(X_test)\n",
    "\n",
    "    # Calculate the accuracy of the KNN model\n",
    "    accuracy = accuracy_score(y_test, y_pred)\n",
    "\n",
    "    # Store the k value and accuracy in the corresponding lists\n",
    "    k_values.append(k)\n",
    "    accuracies.append(accuracy)\n",
    "\n",
    "\n"
   ]
  },
  {
   "cell_type": "code",
   "execution_count": 44,
   "metadata": {},
   "outputs": [
    {
     "data": {
      "image/png": "[encoded data removed]",
      "text/plain": [
       "<Figure size 432x288 with 1 Axes>"
      ]
     },
     "metadata": {
      "needs_background": "light"
     },
     "output_type": "display_data"
    },
    {
     "name": "stdout",
     "output_type": "stream",
     "text": [
      "11\n",
      "0.827121199430438\n"
     ]
    }
   ],
   "source": [
    "# Plot the relationship between k and accuracy\n",
    "plt.plot(k_values, accuracies, 'o-')\n",
    "# Set the x-axis ticks and labels to match the k values\n",
    "plt.xticks(k_values)\n",
    "plt.xlabel('Number of neighbors (k)')\n",
    "plt.ylabel('Accuracy')\n",
    "plt.title('KNN model accuracy vs. number of neighbors')\n",
    "plt.show()\n",
    "\n",
    "print(k_values[5])\n",
    "print(accuracies[5])\n"
   ]
  }
 ],
 "metadata": {
  "kernelspec": {
   "display_name": "base",
   "language": "python",
   "name": "python3"
  },
  "language_info": {
   "codemirror_mode": {
    "name": "ipython",
    "version": 3
   },
   "file_extension": ".py",
   "mimetype": "text/x-python",
   "name": "python",
   "nbconvert_exporter": "python",
   "pygments_lexer": "ipython3",
   "version": "3.9.12"
  },
  "orig_nbformat": 4
 },
 "nbformat": 4,
 "nbformat_minor": 2
}
